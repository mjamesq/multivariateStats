{
 "cells": [
  {
   "cell_type": "markdown",
   "metadata": {},
   "source": [
    "# Python Implementation of Hotellings T2"
   ]
  },
  {
   "cell_type": "markdown",
   "metadata": {},
   "source": [
    "$$ T^2 = n_1n_2(\\bar{x}_1-\\bar{x}_2)^T*C^{-1}*\\frac{(\\bar{x}_1-\\bar{x}_2)}{n_1+n_2}$$"
   ]
  },
  {
   "cell_type": "markdown",
   "metadata": {},
   "source": [
    "Where:"
   ]
  },
  {
   "cell_type": "markdown",
   "metadata": {},
   "source": [
    "$$ C = \\frac{(n_1-1)C_1 + (n_2-1)C_2}{(n_1+n_2-2)}$$"
   ]
  },
  {
   "cell_type": "code",
   "execution_count": 2,
   "metadata": {},
   "outputs": [],
   "source": [
    "##load packages\n",
    "import pandas as pd\n",
    "import numpy as np\n",
    "from scipy.stats import f"
   ]
  },
  {
   "cell_type": "code",
   "execution_count": 4,
   "metadata": {},
   "outputs": [],
   "source": [
    "def HotellingsT2(Group1,Group2, alpha):\n",
    "    n1 = len(Group1)\n",
    "    n2 = len(Group2)\n",
    "    Group1averages = []\n",
    "    Group2averages = []\n",
    "    xi = list(Group1.columns)\n",
    "    yi = list(Group2.columns)\n",
    "    \n",
    "    #column averages Group1\n",
    "    for i in xi:\n",
    "        totals = sum(Group1[i])\n",
    "        ave = totals/n1\n",
    "        Group1averages.append(ave)\n",
    "    \n",
    "    for i in yi:\n",
    "        totals = sum(Group2[i])\n",
    "        ave = totals/n2\n",
    "        Group2averages.append(ave)\n",
    "        \n",
    "    #covarince matrix\n",
    "    cov1 = np.cov(Group1, rowvar = False)\n",
    "    cov2 = np.cov(Group2, rowvar = False)\n",
    "    C1 = (n1-1)*cov1\n",
    "    C2 = (n2-1)*cov2\n",
    "    pooledC = (C1 + C2) / (n1+n2-2)\n",
    "        \n",
    "    ##transpose\n",
    "    xbar1 = np.array(Group1averages)\n",
    "    xbar2 = np.array(Group2averages)\n",
    "    Transpose = np.transpose((xbar1-xbar2))\n",
    "    ##sample mean\n",
    "    \n",
    "    diff = (xbar1-xbar2)/(n1+n2)\n",
    "    ##inverse\n",
    "    inverse = np.linalg.inv(pooledC)\n",
    "    a = (n1*n2)*Transpose\n",
    "    b = np.matmul(a,inverse)\n",
    "    T = np.matmul(b, diff)\n",
    "    \n",
    "    ##degrees of freedom, and F test\n",
    "    df1 = len(xi)\n",
    "    df2 = (n1+n2-len(xi)-1)\n",
    "    F = df2 * T / ((n1 + n2-2)*len(xi))\n",
    "    p_value = 1 - (f.cdf(F, df1, df2))\n",
    "    \n",
    "    return df1,df2,F, p_value, (p_value<alpha)\n",
    "    "
   ]
  },
  {
   "cell_type": "code",
   "execution_count": null,
   "metadata": {},
   "outputs": [],
   "source": []
  }
 ],
 "metadata": {
  "kernelspec": {
   "display_name": "Python 3",
   "language": "python",
   "name": "python3"
  },
  "language_info": {
   "codemirror_mode": {
    "name": "ipython",
    "version": 3
   },
   "file_extension": ".py",
   "mimetype": "text/x-python",
   "name": "python",
   "nbconvert_exporter": "python",
   "pygments_lexer": "ipython3",
   "version": "3.7.3"
  }
 },
 "nbformat": 4,
 "nbformat_minor": 2
}
